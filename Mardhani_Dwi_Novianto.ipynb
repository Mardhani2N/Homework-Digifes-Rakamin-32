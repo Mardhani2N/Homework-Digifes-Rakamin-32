{
  "cells": [
    {
      "cell_type": "markdown",
      "id": "abf05cad",
      "metadata": {
        "id": "abf05cad"
      },
      "source": [
        "# Import Libraries"
      ]
    },
    {
      "cell_type": "code",
      "execution_count": 1,
      "id": "895f458c",
      "metadata": {
        "id": "895f458c"
      },
      "outputs": [],
      "source": [
        "import numpy as np\n",
        "import pandas as pd\n",
        "import matplotlib.pyplot as plt\n",
        "import seaborn as sns\n",
        "\n",
        "# Menghilangkan warning\n",
        "import warnings\n",
        "warnings.filterwarnings('ignore')"
      ]
    },
    {
      "cell_type": "markdown",
      "id": "baa49998",
      "metadata": {
        "id": "baa49998"
      },
      "source": [
        "# Load Dataset"
      ]
    },
    {
      "cell_type": "code",
      "source": [
        "from google.colab import drive\n",
        "drive.mount('/content/drive')"
      ],
      "metadata": {
        "colab": {
          "base_uri": "https://localhost:8080/"
        },
        "id": "iSmgTCekMjcD",
        "outputId": "2528ca56-6f17-43e1-cd6e-afa5f115ee2b"
      },
      "id": "iSmgTCekMjcD",
      "execution_count": 2,
      "outputs": [
        {
          "output_type": "stream",
          "name": "stdout",
          "text": [
            "Drive already mounted at /content/drive; to attempt to forcibly remount, call drive.mount(\"/content/drive\", force_remount=True).\n"
          ]
        }
      ]
    },
    {
      "cell_type": "code",
      "execution_count": 3,
      "id": "bc091ff6",
      "metadata": {
        "colab": {
          "base_uri": "https://localhost:8080/",
          "height": 505
        },
        "id": "bc091ff6",
        "outputId": "06bd0e7d-f249-468d-ebd8-a4ad580a2a69"
      },
      "outputs": [
        {
          "output_type": "execute_result",
          "data": {
            "text/plain": [
              "      loan_id  birth_date  phone_number  gender married dependents  \\\n",
              "0    LP001002  1977-05-15  6.281142e+11    Male      No          0   \n",
              "1    LP001003  1979-08-24  6.287764e+11    Male     Yes          1   \n",
              "2    LP001005  1991-03-28  6.281192e+11    Male     Yes          0   \n",
              "3    LP001006  1980-06-02  6.285634e+10    Male     Yes          0   \n",
              "4    LP001008  1989-05-19  6.281130e+11    Male      No          0   \n",
              "..        ...         ...           ...     ...     ...        ...   \n",
              "616  LP002978  1976-03-25  6.285650e+11  Female      No          0   \n",
              "617  LP002979  1987-01-26  6.281165e+11    Male     Yes         3+   \n",
              "618  LP002983  1982-03-08  6.281158e+11    Male     Yes          1   \n",
              "619  LP002984  1986-12-05  6.281196e+11    Male     Yes          2   \n",
              "620  LP002990         NaN  6.281396e+11  Female      No          0   \n",
              "\n",
              "        education self_employed  applicant_income  coapplicant_income  \\\n",
              "0        Graduate            No            5849.0                 0.0   \n",
              "1        Graduate            No            4583.0              1508.0   \n",
              "2        Graduate           Yes            3000.0                 0.0   \n",
              "3    Not Graduate            No            2583.0              2358.0   \n",
              "4        Graduate            No            6000.0                 0.0   \n",
              "..            ...           ...               ...                 ...   \n",
              "616      Graduate            No            2900.0                 0.0   \n",
              "617      Graduate            No            4106.0                 0.0   \n",
              "618      Graduate            No            8072.0               240.0   \n",
              "619      Graduate            No            7583.0                 0.0   \n",
              "620      Graduate           Yes            4583.0                 0.0   \n",
              "\n",
              "     loan_amount  loan_term_month  loan_term_year  credit_history  \\\n",
              "0         100000              360              30             1.0   \n",
              "1         128000              360              30             1.0   \n",
              "2          66000              360              30             1.0   \n",
              "3         120000              360              30             1.0   \n",
              "4         141000              360              30             1.0   \n",
              "..           ...              ...             ...             ...   \n",
              "616        71000              360              30             1.0   \n",
              "617        40000              180              15             1.0   \n",
              "618       253000              360              30             1.0   \n",
              "619       187000              360              30             1.0   \n",
              "620       133000              360              30             0.0   \n",
              "\n",
              "    has_credit_card property_type loan_status  \n",
              "0               NaN         house     APPROVE  \n",
              "1               NaN        studio      REJECT  \n",
              "2               NaN         house     APPROVE  \n",
              "3               NaN         house     APPROVE  \n",
              "4               NaN         house     APPROVE  \n",
              "..              ...           ...         ...  \n",
              "616             NaN        studio     APPROVE  \n",
              "617             NaN        studio     APPROVE  \n",
              "618             NaN         house     APPROVE  \n",
              "619             NaN         house     APPROVE  \n",
              "620              no     apartment      REJECT  \n",
              "\n",
              "[621 rows x 17 columns]"
            ],
            "text/html": [
              "\n",
              "  <div id=\"df-f3e70e44-f2ec-4395-b040-983050ab9fbe\">\n",
              "    <div class=\"colab-df-container\">\n",
              "      <div>\n",
              "<style scoped>\n",
              "    .dataframe tbody tr th:only-of-type {\n",
              "        vertical-align: middle;\n",
              "    }\n",
              "\n",
              "    .dataframe tbody tr th {\n",
              "        vertical-align: top;\n",
              "    }\n",
              "\n",
              "    .dataframe thead th {\n",
              "        text-align: right;\n",
              "    }\n",
              "</style>\n",
              "<table border=\"1\" class=\"dataframe\">\n",
              "  <thead>\n",
              "    <tr style=\"text-align: right;\">\n",
              "      <th></th>\n",
              "      <th>loan_id</th>\n",
              "      <th>birth_date</th>\n",
              "      <th>phone_number</th>\n",
              "      <th>gender</th>\n",
              "      <th>married</th>\n",
              "      <th>dependents</th>\n",
              "      <th>education</th>\n",
              "      <th>self_employed</th>\n",
              "      <th>applicant_income</th>\n",
              "      <th>coapplicant_income</th>\n",
              "      <th>loan_amount</th>\n",
              "      <th>loan_term_month</th>\n",
              "      <th>loan_term_year</th>\n",
              "      <th>credit_history</th>\n",
              "      <th>has_credit_card</th>\n",
              "      <th>property_type</th>\n",
              "      <th>loan_status</th>\n",
              "    </tr>\n",
              "  </thead>\n",
              "  <tbody>\n",
              "    <tr>\n",
              "      <th>0</th>\n",
              "      <td>LP001002</td>\n",
              "      <td>1977-05-15</td>\n",
              "      <td>6.281142e+11</td>\n",
              "      <td>Male</td>\n",
              "      <td>No</td>\n",
              "      <td>0</td>\n",
              "      <td>Graduate</td>\n",
              "      <td>No</td>\n",
              "      <td>5849.0</td>\n",
              "      <td>0.0</td>\n",
              "      <td>100000</td>\n",
              "      <td>360</td>\n",
              "      <td>30</td>\n",
              "      <td>1.0</td>\n",
              "      <td>NaN</td>\n",
              "      <td>house</td>\n",
              "      <td>APPROVE</td>\n",
              "    </tr>\n",
              "    <tr>\n",
              "      <th>1</th>\n",
              "      <td>LP001003</td>\n",
              "      <td>1979-08-24</td>\n",
              "      <td>6.287764e+11</td>\n",
              "      <td>Male</td>\n",
              "      <td>Yes</td>\n",
              "      <td>1</td>\n",
              "      <td>Graduate</td>\n",
              "      <td>No</td>\n",
              "      <td>4583.0</td>\n",
              "      <td>1508.0</td>\n",
              "      <td>128000</td>\n",
              "      <td>360</td>\n",
              "      <td>30</td>\n",
              "      <td>1.0</td>\n",
              "      <td>NaN</td>\n",
              "      <td>studio</td>\n",
              "      <td>REJECT</td>\n",
              "    </tr>\n",
              "    <tr>\n",
              "      <th>2</th>\n",
              "      <td>LP001005</td>\n",
              "      <td>1991-03-28</td>\n",
              "      <td>6.281192e+11</td>\n",
              "      <td>Male</td>\n",
              "      <td>Yes</td>\n",
              "      <td>0</td>\n",
              "      <td>Graduate</td>\n",
              "      <td>Yes</td>\n",
              "      <td>3000.0</td>\n",
              "      <td>0.0</td>\n",
              "      <td>66000</td>\n",
              "      <td>360</td>\n",
              "      <td>30</td>\n",
              "      <td>1.0</td>\n",
              "      <td>NaN</td>\n",
              "      <td>house</td>\n",
              "      <td>APPROVE</td>\n",
              "    </tr>\n",
              "    <tr>\n",
              "      <th>3</th>\n",
              "      <td>LP001006</td>\n",
              "      <td>1980-06-02</td>\n",
              "      <td>6.285634e+10</td>\n",
              "      <td>Male</td>\n",
              "      <td>Yes</td>\n",
              "      <td>0</td>\n",
              "      <td>Not Graduate</td>\n",
              "      <td>No</td>\n",
              "      <td>2583.0</td>\n",
              "      <td>2358.0</td>\n",
              "      <td>120000</td>\n",
              "      <td>360</td>\n",
              "      <td>30</td>\n",
              "      <td>1.0</td>\n",
              "      <td>NaN</td>\n",
              "      <td>house</td>\n",
              "      <td>APPROVE</td>\n",
              "    </tr>\n",
              "    <tr>\n",
              "      <th>4</th>\n",
              "      <td>LP001008</td>\n",
              "      <td>1989-05-19</td>\n",
              "      <td>6.281130e+11</td>\n",
              "      <td>Male</td>\n",
              "      <td>No</td>\n",
              "      <td>0</td>\n",
              "      <td>Graduate</td>\n",
              "      <td>No</td>\n",
              "      <td>6000.0</td>\n",
              "      <td>0.0</td>\n",
              "      <td>141000</td>\n",
              "      <td>360</td>\n",
              "      <td>30</td>\n",
              "      <td>1.0</td>\n",
              "      <td>NaN</td>\n",
              "      <td>house</td>\n",
              "      <td>APPROVE</td>\n",
              "    </tr>\n",
              "    <tr>\n",
              "      <th>...</th>\n",
              "      <td>...</td>\n",
              "      <td>...</td>\n",
              "      <td>...</td>\n",
              "      <td>...</td>\n",
              "      <td>...</td>\n",
              "      <td>...</td>\n",
              "      <td>...</td>\n",
              "      <td>...</td>\n",
              "      <td>...</td>\n",
              "      <td>...</td>\n",
              "      <td>...</td>\n",
              "      <td>...</td>\n",
              "      <td>...</td>\n",
              "      <td>...</td>\n",
              "      <td>...</td>\n",
              "      <td>...</td>\n",
              "      <td>...</td>\n",
              "    </tr>\n",
              "    <tr>\n",
              "      <th>616</th>\n",
              "      <td>LP002978</td>\n",
              "      <td>1976-03-25</td>\n",
              "      <td>6.285650e+11</td>\n",
              "      <td>Female</td>\n",
              "      <td>No</td>\n",
              "      <td>0</td>\n",
              "      <td>Graduate</td>\n",
              "      <td>No</td>\n",
              "      <td>2900.0</td>\n",
              "      <td>0.0</td>\n",
              "      <td>71000</td>\n",
              "      <td>360</td>\n",
              "      <td>30</td>\n",
              "      <td>1.0</td>\n",
              "      <td>NaN</td>\n",
              "      <td>studio</td>\n",
              "      <td>APPROVE</td>\n",
              "    </tr>\n",
              "    <tr>\n",
              "      <th>617</th>\n",
              "      <td>LP002979</td>\n",
              "      <td>1987-01-26</td>\n",
              "      <td>6.281165e+11</td>\n",
              "      <td>Male</td>\n",
              "      <td>Yes</td>\n",
              "      <td>3+</td>\n",
              "      <td>Graduate</td>\n",
              "      <td>No</td>\n",
              "      <td>4106.0</td>\n",
              "      <td>0.0</td>\n",
              "      <td>40000</td>\n",
              "      <td>180</td>\n",
              "      <td>15</td>\n",
              "      <td>1.0</td>\n",
              "      <td>NaN</td>\n",
              "      <td>studio</td>\n",
              "      <td>APPROVE</td>\n",
              "    </tr>\n",
              "    <tr>\n",
              "      <th>618</th>\n",
              "      <td>LP002983</td>\n",
              "      <td>1982-03-08</td>\n",
              "      <td>6.281158e+11</td>\n",
              "      <td>Male</td>\n",
              "      <td>Yes</td>\n",
              "      <td>1</td>\n",
              "      <td>Graduate</td>\n",
              "      <td>No</td>\n",
              "      <td>8072.0</td>\n",
              "      <td>240.0</td>\n",
              "      <td>253000</td>\n",
              "      <td>360</td>\n",
              "      <td>30</td>\n",
              "      <td>1.0</td>\n",
              "      <td>NaN</td>\n",
              "      <td>house</td>\n",
              "      <td>APPROVE</td>\n",
              "    </tr>\n",
              "    <tr>\n",
              "      <th>619</th>\n",
              "      <td>LP002984</td>\n",
              "      <td>1986-12-05</td>\n",
              "      <td>6.281196e+11</td>\n",
              "      <td>Male</td>\n",
              "      <td>Yes</td>\n",
              "      <td>2</td>\n",
              "      <td>Graduate</td>\n",
              "      <td>No</td>\n",
              "      <td>7583.0</td>\n",
              "      <td>0.0</td>\n",
              "      <td>187000</td>\n",
              "      <td>360</td>\n",
              "      <td>30</td>\n",
              "      <td>1.0</td>\n",
              "      <td>NaN</td>\n",
              "      <td>house</td>\n",
              "      <td>APPROVE</td>\n",
              "    </tr>\n",
              "    <tr>\n",
              "      <th>620</th>\n",
              "      <td>LP002990</td>\n",
              "      <td>NaN</td>\n",
              "      <td>6.281396e+11</td>\n",
              "      <td>Female</td>\n",
              "      <td>No</td>\n",
              "      <td>0</td>\n",
              "      <td>Graduate</td>\n",
              "      <td>Yes</td>\n",
              "      <td>4583.0</td>\n",
              "      <td>0.0</td>\n",
              "      <td>133000</td>\n",
              "      <td>360</td>\n",
              "      <td>30</td>\n",
              "      <td>0.0</td>\n",
              "      <td>no</td>\n",
              "      <td>apartment</td>\n",
              "      <td>REJECT</td>\n",
              "    </tr>\n",
              "  </tbody>\n",
              "</table>\n",
              "<p>621 rows × 17 columns</p>\n",
              "</div>\n",
              "      <button class=\"colab-df-convert\" onclick=\"convertToInteractive('df-f3e70e44-f2ec-4395-b040-983050ab9fbe')\"\n",
              "              title=\"Convert this dataframe to an interactive table.\"\n",
              "              style=\"display:none;\">\n",
              "        \n",
              "  <svg xmlns=\"http://www.w3.org/2000/svg\" height=\"24px\"viewBox=\"0 0 24 24\"\n",
              "       width=\"24px\">\n",
              "    <path d=\"M0 0h24v24H0V0z\" fill=\"none\"/>\n",
              "    <path d=\"M18.56 5.44l.94 2.06.94-2.06 2.06-.94-2.06-.94-.94-2.06-.94 2.06-2.06.94zm-11 1L8.5 8.5l.94-2.06 2.06-.94-2.06-.94L8.5 2.5l-.94 2.06-2.06.94zm10 10l.94 2.06.94-2.06 2.06-.94-2.06-.94-.94-2.06-.94 2.06-2.06.94z\"/><path d=\"M17.41 7.96l-1.37-1.37c-.4-.4-.92-.59-1.43-.59-.52 0-1.04.2-1.43.59L10.3 9.45l-7.72 7.72c-.78.78-.78 2.05 0 2.83L4 21.41c.39.39.9.59 1.41.59.51 0 1.02-.2 1.41-.59l7.78-7.78 2.81-2.81c.8-.78.8-2.07 0-2.86zM5.41 20L4 18.59l7.72-7.72 1.47 1.35L5.41 20z\"/>\n",
              "  </svg>\n",
              "      </button>\n",
              "      \n",
              "  <style>\n",
              "    .colab-df-container {\n",
              "      display:flex;\n",
              "      flex-wrap:wrap;\n",
              "      gap: 12px;\n",
              "    }\n",
              "\n",
              "    .colab-df-convert {\n",
              "      background-color: #E8F0FE;\n",
              "      border: none;\n",
              "      border-radius: 50%;\n",
              "      cursor: pointer;\n",
              "      display: none;\n",
              "      fill: #1967D2;\n",
              "      height: 32px;\n",
              "      padding: 0 0 0 0;\n",
              "      width: 32px;\n",
              "    }\n",
              "\n",
              "    .colab-df-convert:hover {\n",
              "      background-color: #E2EBFA;\n",
              "      box-shadow: 0px 1px 2px rgba(60, 64, 67, 0.3), 0px 1px 3px 1px rgba(60, 64, 67, 0.15);\n",
              "      fill: #174EA6;\n",
              "    }\n",
              "\n",
              "    [theme=dark] .colab-df-convert {\n",
              "      background-color: #3B4455;\n",
              "      fill: #D2E3FC;\n",
              "    }\n",
              "\n",
              "    [theme=dark] .colab-df-convert:hover {\n",
              "      background-color: #434B5C;\n",
              "      box-shadow: 0px 1px 3px 1px rgba(0, 0, 0, 0.15);\n",
              "      filter: drop-shadow(0px 1px 2px rgba(0, 0, 0, 0.3));\n",
              "      fill: #FFFFFF;\n",
              "    }\n",
              "  </style>\n",
              "\n",
              "      <script>\n",
              "        const buttonEl =\n",
              "          document.querySelector('#df-f3e70e44-f2ec-4395-b040-983050ab9fbe button.colab-df-convert');\n",
              "        buttonEl.style.display =\n",
              "          google.colab.kernel.accessAllowed ? 'block' : 'none';\n",
              "\n",
              "        async function convertToInteractive(key) {\n",
              "          const element = document.querySelector('#df-f3e70e44-f2ec-4395-b040-983050ab9fbe');\n",
              "          const dataTable =\n",
              "            await google.colab.kernel.invokeFunction('convertToInteractive',\n",
              "                                                     [key], {});\n",
              "          if (!dataTable) return;\n",
              "\n",
              "          const docLinkHtml = 'Like what you see? Visit the ' +\n",
              "            '<a target=\"_blank\" href=https://colab.research.google.com/notebooks/data_table.ipynb>data table notebook</a>'\n",
              "            + ' to learn more about interactive tables.';\n",
              "          element.innerHTML = '';\n",
              "          dataTable['output_type'] = 'display_data';\n",
              "          await google.colab.output.renderOutput(dataTable, element);\n",
              "          const docLink = document.createElement('div');\n",
              "          docLink.innerHTML = docLinkHtml;\n",
              "          element.appendChild(docLink);\n",
              "        }\n",
              "      </script>\n",
              "    </div>\n",
              "  </div>\n",
              "  "
            ]
          },
          "metadata": {},
          "execution_count": 3
        }
      ],
      "source": [
        "df = pd.read_csv('/content/drive/MyDrive/Rakamin Academy/DigiFes/Homework Digifes by Rakamin - DS #32/loan_customer.csv')\n",
        "df"
      ]
    },
    {
      "cell_type": "code",
      "source": [
        "df.info()"
      ],
      "metadata": {
        "colab": {
          "base_uri": "https://localhost:8080/"
        },
        "id": "e-3ZQW--NIdd",
        "outputId": "fc0aea72-a934-4b31-dff5-5b866b366852"
      },
      "id": "e-3ZQW--NIdd",
      "execution_count": 4,
      "outputs": [
        {
          "output_type": "stream",
          "name": "stdout",
          "text": [
            "<class 'pandas.core.frame.DataFrame'>\n",
            "RangeIndex: 621 entries, 0 to 620\n",
            "Data columns (total 17 columns):\n",
            " #   Column              Non-Null Count  Dtype  \n",
            "---  ------              --------------  -----  \n",
            " 0   loan_id             621 non-null    object \n",
            " 1   birth_date          572 non-null    object \n",
            " 2   phone_number        569 non-null    float64\n",
            " 3   gender              608 non-null    object \n",
            " 4   married             618 non-null    object \n",
            " 5   dependents          605 non-null    object \n",
            " 6   education           620 non-null    object \n",
            " 7   self_employed       588 non-null    object \n",
            " 8   applicant_income    612 non-null    float64\n",
            " 9   coapplicant_income  621 non-null    float64\n",
            " 10  loan_amount         621 non-null    int64  \n",
            " 11  loan_term_month     621 non-null    int64  \n",
            " 12  loan_term_year      621 non-null    int64  \n",
            " 13  credit_history      570 non-null    float64\n",
            " 14  has_credit_card     88 non-null     object \n",
            " 15  property_type       620 non-null    object \n",
            " 16  loan_status         621 non-null    object \n",
            "dtypes: float64(4), int64(3), object(10)\n",
            "memory usage: 82.6+ KB\n"
          ]
        }
      ]
    },
    {
      "cell_type": "markdown",
      "source": [
        "Data terdiri dari 621 baris dan 17 kolom dengan beberapa kolom memiliki null / missing values (ditandai dengan Non-Null Count <- jumlah baris)"
      ],
      "metadata": {
        "id": "zU1x9lWZOYaA"
      },
      "id": "zU1x9lWZOYaA"
    },
    {
      "cell_type": "markdown",
      "source": [
        "<h1> Section 1 - Data Preprocessing </h1>"
      ],
      "metadata": {
        "id": "mNqvi9tygdXP"
      },
      "id": "mNqvi9tygdXP"
    },
    {
      "cell_type": "markdown",
      "id": "7c0e3893",
      "metadata": {
        "id": "7c0e3893"
      },
      "source": [
        "# Data Cleansing"
      ]
    },
    {
      "cell_type": "markdown",
      "id": "dc4032a4",
      "metadata": {
        "id": "dc4032a4"
      },
      "source": [
        "## Handling missing values"
      ]
    },
    {
      "cell_type": "markdown",
      "source": [
        "Mengecek ada tidaknya null / missing values"
      ],
      "metadata": {
        "id": "FNL7K4CXOpyq"
      },
      "id": "FNL7K4CXOpyq"
    },
    {
      "cell_type": "code",
      "execution_count": 5,
      "id": "b2b5755e",
      "metadata": {
        "colab": {
          "base_uri": "https://localhost:8080/"
        },
        "id": "b2b5755e",
        "outputId": "00f58daa-016b-461c-e81b-bb6f40d4f05e"
      },
      "outputs": [
        {
          "output_type": "execute_result",
          "data": {
            "text/plain": [
              "True"
            ]
          },
          "metadata": {},
          "execution_count": 5
        }
      ],
      "source": [
        "df.isnull().values.any()"
      ]
    },
    {
      "cell_type": "markdown",
      "source": [
        "Menghitung banyaknya null / missing values dari setiap kolom"
      ],
      "metadata": {
        "id": "IVlmVDDNO4Rm"
      },
      "id": "IVlmVDDNO4Rm"
    },
    {
      "cell_type": "code",
      "source": [
        "df.isnull().sum()"
      ],
      "metadata": {
        "colab": {
          "base_uri": "https://localhost:8080/"
        },
        "id": "W8S5N6FrOu8F",
        "outputId": "8c57f628-6ad7-4ac8-b7be-4ad580c91c9a"
      },
      "id": "W8S5N6FrOu8F",
      "execution_count": 6,
      "outputs": [
        {
          "output_type": "execute_result",
          "data": {
            "text/plain": [
              "loan_id                 0\n",
              "birth_date             49\n",
              "phone_number           52\n",
              "gender                 13\n",
              "married                 3\n",
              "dependents             16\n",
              "education               1\n",
              "self_employed          33\n",
              "applicant_income        9\n",
              "coapplicant_income      0\n",
              "loan_amount             0\n",
              "loan_term_month         0\n",
              "loan_term_year          0\n",
              "credit_history         51\n",
              "has_credit_card       533\n",
              "property_type           1\n",
              "loan_status             0\n",
              "dtype: int64"
            ]
          },
          "metadata": {},
          "execution_count": 6
        }
      ]
    },
    {
      "cell_type": "markdown",
      "source": [
        "Terdapat kolom dengan null / missing values sangat banyak (lebih dari 50%), sehingga kolom tersebut dihapus"
      ],
      "metadata": {
        "id": "LKsIGR6CjHpe"
      },
      "id": "LKsIGR6CjHpe"
    },
    {
      "cell_type": "markdown",
      "source": [
        "Sebelum menghapus null / missing values, dilihat terlebih dahulu dimensi datanya"
      ],
      "metadata": {
        "id": "dRIsBDDbP8tw"
      },
      "id": "dRIsBDDbP8tw"
    },
    {
      "cell_type": "code",
      "source": [
        "df.shape"
      ],
      "metadata": {
        "colab": {
          "base_uri": "https://localhost:8080/"
        },
        "id": "0HvqvP_xQqLA",
        "outputId": "2af58bd8-578d-4e0f-ade2-4ad04287ac8b"
      },
      "id": "0HvqvP_xQqLA",
      "execution_count": 7,
      "outputs": [
        {
          "output_type": "execute_result",
          "data": {
            "text/plain": [
              "(621, 17)"
            ]
          },
          "metadata": {},
          "execution_count": 7
        }
      ]
    },
    {
      "cell_type": "code",
      "source": [
        "df.drop('has_credit_card', axis=1, inplace=True)"
      ],
      "metadata": {
        "id": "0TGKtTgsjQeD"
      },
      "id": "0TGKtTgsjQeD",
      "execution_count": 8,
      "outputs": []
    },
    {
      "cell_type": "markdown",
      "source": [
        "Selanjutnya dihapus null / missing values dari setiap kolom"
      ],
      "metadata": {
        "id": "JVv1UoPuQzlz"
      },
      "id": "JVv1UoPuQzlz"
    },
    {
      "cell_type": "code",
      "source": [
        "df.dropna(inplace=True)"
      ],
      "metadata": {
        "id": "gdjEgIVvQM35"
      },
      "id": "gdjEgIVvQM35",
      "execution_count": 9,
      "outputs": []
    },
    {
      "cell_type": "markdown",
      "source": [
        "Menghitung kembali banyaknya null / missing values dari setiap kolom"
      ],
      "metadata": {
        "id": "eoBvMIvcQREB"
      },
      "id": "eoBvMIvcQREB"
    },
    {
      "cell_type": "code",
      "source": [
        "df.isnull().sum()"
      ],
      "metadata": {
        "colab": {
          "base_uri": "https://localhost:8080/"
        },
        "id": "e1vOJZ9GQVqo",
        "outputId": "1ca712d7-9564-4be5-8618-6b0148b1ba08"
      },
      "id": "e1vOJZ9GQVqo",
      "execution_count": 10,
      "outputs": [
        {
          "output_type": "execute_result",
          "data": {
            "text/plain": [
              "loan_id               0\n",
              "birth_date            0\n",
              "phone_number          0\n",
              "gender                0\n",
              "married               0\n",
              "dependents            0\n",
              "education             0\n",
              "self_employed         0\n",
              "applicant_income      0\n",
              "coapplicant_income    0\n",
              "loan_amount           0\n",
              "loan_term_month       0\n",
              "loan_term_year        0\n",
              "credit_history        0\n",
              "property_type         0\n",
              "loan_status           0\n",
              "dtype: int64"
            ]
          },
          "metadata": {},
          "execution_count": 10
        }
      ]
    },
    {
      "cell_type": "markdown",
      "source": [
        "Sudah tidak ada null / missing values dari setiap kolom, selanjutnya dicek kembali dimensi datanya"
      ],
      "metadata": {
        "id": "V4Ge-qD9QYIY"
      },
      "id": "V4Ge-qD9QYIY"
    },
    {
      "cell_type": "code",
      "source": [
        "df.shape"
      ],
      "metadata": {
        "colab": {
          "base_uri": "https://localhost:8080/"
        },
        "id": "uDDt1sZrQ8T_",
        "outputId": "ba58eddf-f5bc-4d6e-829b-b1ffab722af1"
      },
      "id": "uDDt1sZrQ8T_",
      "execution_count": 11,
      "outputs": [
        {
          "output_type": "execute_result",
          "data": {
            "text/plain": [
              "(434, 16)"
            ]
          },
          "metadata": {},
          "execution_count": 11
        }
      ]
    },
    {
      "cell_type": "markdown",
      "id": "d75d760e",
      "metadata": {
        "id": "d75d760e"
      },
      "source": [
        "## Handling duplicated data"
      ]
    },
    {
      "cell_type": "markdown",
      "source": [
        "Mengecek ada tidaknya data yang duplikat"
      ],
      "metadata": {
        "id": "Pfctfl6tPAp-"
      },
      "id": "Pfctfl6tPAp-"
    },
    {
      "cell_type": "code",
      "execution_count": 12,
      "id": "f040795a",
      "metadata": {
        "colab": {
          "base_uri": "https://localhost:8080/"
        },
        "id": "f040795a",
        "outputId": "76146dde-dfed-451b-e9e9-692ecaad34de"
      },
      "outputs": [
        {
          "output_type": "execute_result",
          "data": {
            "text/plain": [
              "True"
            ]
          },
          "metadata": {},
          "execution_count": 12
        }
      ],
      "source": [
        "df.duplicated().any()"
      ]
    },
    {
      "cell_type": "markdown",
      "source": [
        "Menghitung banyaknya data yang duplikat"
      ],
      "metadata": {
        "id": "poO7P43qRJL1"
      },
      "id": "poO7P43qRJL1"
    },
    {
      "cell_type": "code",
      "source": [
        "df.duplicated().sum()"
      ],
      "metadata": {
        "colab": {
          "base_uri": "https://localhost:8080/"
        },
        "id": "kGtp9qmFRNM3",
        "outputId": "f43fef92-a5d3-4289-8998-1f530e425c65"
      },
      "id": "kGtp9qmFRNM3",
      "execution_count": 13,
      "outputs": [
        {
          "output_type": "execute_result",
          "data": {
            "text/plain": [
              "5"
            ]
          },
          "metadata": {},
          "execution_count": 13
        }
      ]
    },
    {
      "cell_type": "markdown",
      "source": [
        "Menghapus data yang duplikat"
      ],
      "metadata": {
        "id": "acZzNYMRRU2n"
      },
      "id": "acZzNYMRRU2n"
    },
    {
      "cell_type": "code",
      "source": [
        "df.drop_duplicates(inplace=True)"
      ],
      "metadata": {
        "id": "e6fLrvNWHyNq"
      },
      "id": "e6fLrvNWHyNq",
      "execution_count": 14,
      "outputs": []
    },
    {
      "cell_type": "markdown",
      "source": [
        "Mengecek kembali ada tidaknya data yang duplikat"
      ],
      "metadata": {
        "id": "IrCZUVASH7W6"
      },
      "id": "IrCZUVASH7W6"
    },
    {
      "cell_type": "code",
      "source": [
        "df.duplicated().any()"
      ],
      "metadata": {
        "colab": {
          "base_uri": "https://localhost:8080/"
        },
        "id": "cdKOnKNEH6qz",
        "outputId": "36b2c522-065b-448d-be5d-497ee9ab1c65"
      },
      "id": "cdKOnKNEH6qz",
      "execution_count": 15,
      "outputs": [
        {
          "output_type": "execute_result",
          "data": {
            "text/plain": [
              "False"
            ]
          },
          "metadata": {},
          "execution_count": 15
        }
      ]
    },
    {
      "cell_type": "markdown",
      "source": [
        "Sudah tidak terdapat data yang duplikat"
      ],
      "metadata": {
        "id": "9A0jbjuhIAmv"
      },
      "id": "9A0jbjuhIAmv"
    },
    {
      "cell_type": "markdown",
      "id": "a73632f3",
      "metadata": {
        "id": "a73632f3"
      },
      "source": [
        "## Handling Outlier"
      ]
    },
    {
      "cell_type": "markdown",
      "source": [
        "mengidentifikasi kolom dengan data numerik"
      ],
      "metadata": {
        "id": "YdEjH2I8UnNj"
      },
      "id": "YdEjH2I8UnNj"
    },
    {
      "cell_type": "code",
      "source": [
        "numerik = ['applicant_income', 'coapplicant_income', 'loan_amount']"
      ],
      "metadata": {
        "id": "PqESTGp5XILN"
      },
      "id": "PqESTGp5XILN",
      "execution_count": 16,
      "outputs": []
    },
    {
      "cell_type": "markdown",
      "source": [
        "Mengecek outlier di setiap kolom dengan data numerik menggunakan boxplot"
      ],
      "metadata": {
        "id": "Z061ACfOV8RA"
      },
      "id": "Z061ACfOV8RA"
    },
    {
      "cell_type": "code",
      "source": [
        "plt.rcParams['figure.figsize'] = [10, 5]"
      ],
      "metadata": {
        "id": "CNeV3ILHovDy"
      },
      "id": "CNeV3ILHovDy",
      "execution_count": 17,
      "outputs": []
    },
    {
      "cell_type": "code",
      "source": [
        "sns.boxplot(x = df['applicant_income'], data=df)"
      ],
      "metadata": {
        "colab": {
          "base_uri": "https://localhost:8080/",
          "height": 352
        },
        "id": "qmkPbKRSWAju",
        "outputId": "6e3b5347-2aac-461b-b29e-f728ba60062b"
      },
      "id": "qmkPbKRSWAju",
      "execution_count": 18,
      "outputs": [
        {
          "output_type": "execute_result",
          "data": {
            "text/plain": [
              "<AxesSubplot:xlabel='applicant_income'>"
            ]
          },
          "metadata": {},
          "execution_count": 18
        },
        {
          "output_type": "display_data",
          "data": {
            "text/plain": [
              "<Figure size 720x360 with 1 Axes>"
            ],
            "image/png": "[encoded data removed]"
          },
          "metadata": {
            "needs_background": "light"
          }
        }
      ]
    },
    {
      "cell_type": "code",
      "source": [
        "sns.boxplot(x = df['coapplicant_income'], data=df)"
      ],
      "metadata": {
        "colab": {
          "base_uri": "https://localhost:8080/",
          "height": 352
        },
        "id": "EwJpy5-Zoyc9",
        "outputId": "f686e2eb-d4e6-48ce-b2a3-8b6e2c5b425d"
      },
      "id": "EwJpy5-Zoyc9",
      "execution_count": 19,
      "outputs": [
        {
          "output_type": "execute_result",
          "data": {
            "text/plain": [
              "<AxesSubplot:xlabel='coapplicant_income'>"
            ]
          },
          "metadata": {},
          "execution_count": 19
        },
        {
          "output_type": "display_data",
          "data": {
            "text/plain": [
              "<Figure size 720x360 with 1 Axes>"
            ],
            "image/png": "[encoded data removed]"
          },
          "metadata": {
            "needs_background": "light"
          }
        }
      ]
    },
    {
      "cell_type": "code",
      "source": [
        "sns.boxplot(x = df['loan_amount'], data=df)"
      ],
      "metadata": {
        "colab": {
          "base_uri": "https://localhost:8080/",
          "height": 352
        },
        "id": "ziXnQyb5o1Yq",
        "outputId": "310d6c08-b79c-4ee2-aa41-b0419689380f"
      },
      "id": "ziXnQyb5o1Yq",
      "execution_count": 20,
      "outputs": [
        {
          "output_type": "execute_result",
          "data": {
            "text/plain": [
              "<AxesSubplot:xlabel='loan_amount'>"
            ]
          },
          "metadata": {},
          "execution_count": 20
        },
        {
          "output_type": "display_data",
          "data": {
            "text/plain": [
              "<Figure size 720x360 with 1 Axes>"
            ],
            "image/png": "[encoded data removed]"
          },
          "metadata": {
            "needs_background": "light"
          }
        }
      ]
    },
    {
      "cell_type": "markdown",
      "source": [
        "Semua kolom terdapat outlier, selanjutnya outlier akan dihapus"
      ],
      "metadata": {
        "id": "lZt2Wy9bYgG0"
      },
      "id": "lZt2Wy9bYgG0"
    },
    {
      "cell_type": "code",
      "source": [
        "import numpy as np\n",
        "\n",
        "# Using IQR\n",
        "print(f'Jumlah baris sebelum memfilter outlier: {len(df)}')\n",
        "\n",
        "filtered_entries = np.array([True] * len(df))\n",
        "\n",
        "for col in numerik :\n",
        "    Q1 = df[col].quantile(0.25)\n",
        "    Q3 = df[col].quantile(0.75)\n",
        "    IQR = Q3 - Q1\n",
        "    low_limit = Q1 - (IQR * 1.5)\n",
        "    high_limit = Q3 + (IQR * 1.5)\n",
        "\n",
        "    filtered_entries = ((df[col] >= low_limit) & (df[col] <= high_limit)) & filtered_entries\n",
        "    \n",
        "df = df[filtered_entries]\n",
        "\n",
        "print(f'Jumlah baris setelah memfilter outlier: {len(df)}')"
      ],
      "metadata": {
        "colab": {
          "base_uri": "https://localhost:8080/"
        },
        "id": "ffIQN2JzXYRw",
        "outputId": "5fc76535-be66-46de-8eaf-43ee2e295bdc"
      },
      "id": "ffIQN2JzXYRw",
      "execution_count": 21,
      "outputs": [
        {
          "output_type": "stream",
          "name": "stdout",
          "text": [
            "Jumlah baris sebelum memfilter outlier: 429\n",
            "Jumlah baris setelah memfilter outlier: 375\n"
          ]
        }
      ]
    },
    {
      "cell_type": "markdown",
      "source": [
        "Cek kembali dimensi datanya"
      ],
      "metadata": {
        "id": "YC21qDzxahSI"
      },
      "id": "YC21qDzxahSI"
    },
    {
      "cell_type": "code",
      "source": [
        "df.shape"
      ],
      "metadata": {
        "colab": {
          "base_uri": "https://localhost:8080/"
        },
        "id": "QlCReNM0ai_C",
        "outputId": "6351de7d-2a8b-4acd-928c-4c89e71d2da7"
      },
      "id": "QlCReNM0ai_C",
      "execution_count": 22,
      "outputs": [
        {
          "output_type": "execute_result",
          "data": {
            "text/plain": [
              "(375, 16)"
            ]
          },
          "metadata": {},
          "execution_count": 22
        }
      ]
    },
    {
      "cell_type": "markdown",
      "source": [
        "Untuk kolom dengan data kategorik, juga dapat dilakukan penghapusan outlier dengan cara mengindentifikasi secara manual data yang tidak masuk akal atau tidak cocok dengan data lainnya. Untuk kasus ini, tidak ada data kategorik yang tidak masuk akal.\n"
      ],
      "metadata": {
        "id": "GAy2owwwcR_7"
      },
      "id": "GAy2owwwcR_7"
    },
    {
      "cell_type": "markdown",
      "id": "659efbd3",
      "metadata": {
        "id": "659efbd3"
      },
      "source": [
        "## Feature Encoding"
      ]
    },
    {
      "cell_type": "markdown",
      "source": [
        "Mengidentifikasi kolom dengan data kategorik"
      ],
      "metadata": {
        "id": "nXAe4d5-any_"
      },
      "id": "nXAe4d5-any_"
    },
    {
      "cell_type": "code",
      "source": [
        "kategorik = ['gender', 'married', 'dependents', 'education', 'self_employed', 'credit_history', 'property_type', 'loan_status']"
      ],
      "metadata": {
        "id": "RgC3jADeYcnb"
      },
      "id": "RgC3jADeYcnb",
      "execution_count": 23,
      "outputs": []
    },
    {
      "cell_type": "markdown",
      "source": [
        "Melihat kategori dari setiap kolom dengan data kategorik"
      ],
      "metadata": {
        "id": "JAA3PcV2a0cQ"
      },
      "id": "JAA3PcV2a0cQ"
    },
    {
      "cell_type": "code",
      "source": [
        "for i in kategorik :\n",
        "  print(f'Kolom {i} = {df[i].unique()}')"
      ],
      "metadata": {
        "colab": {
          "base_uri": "https://localhost:8080/"
        },
        "id": "0_xDkhBQa4-g",
        "outputId": "97aa7f0e-de31-469d-8c80-908ca39c7688"
      },
      "id": "0_xDkhBQa4-g",
      "execution_count": 24,
      "outputs": [
        {
          "output_type": "stream",
          "name": "stdout",
          "text": [
            "Kolom gender = ['Male' 'Female']\n",
            "Kolom married = ['No' 'Yes']\n",
            "Kolom dependents = ['0' '1' '2' '3+']\n",
            "Kolom education = ['Graduate' 'Not Graduate']\n",
            "Kolom self_employed = ['No' 'Yes']\n",
            "Kolom credit_history = [1. 0.]\n",
            "Kolom property_type = ['house' 'studio' 'apartment']\n",
            "Kolom loan_status = ['APPROVE' 'REJECT']\n"
          ]
        }
      ]
    },
    {
      "cell_type": "code",
      "source": [
        "plt.rcParams['figure.figsize'] = [24, 15]\n",
        "fig, axs = plt.subplots(2, 4)\n",
        "\n",
        "sns.countplot(x = df['gender'], ax = axs[0,0])\n",
        "sns.countplot(x = df['married'], ax = axs[0,1])\n",
        "sns.countplot(x = df['dependents'], ax = axs[0,2])\n",
        "sns.countplot(x = df['education'], ax = axs[0,3])\n",
        "sns.countplot(x = df['self_employed'], ax = axs[1,0])\n",
        "sns.countplot(x = df['credit_history'], ax = axs[1,1])\n",
        "sns.countplot(x = df['property_type'], ax = axs[1,2])\n",
        "sns.countplot(x = df['loan_status'], ax = axs[1,3])"
      ],
      "metadata": {
        "colab": {
          "base_uri": "https://localhost:8080/",
          "height": 895
        },
        "id": "J6-Rh8THYaz3",
        "outputId": "6a1be81f-d7ed-45ef-cf71-09b7a8c61f26"
      },
      "id": "J6-Rh8THYaz3",
      "execution_count": 25,
      "outputs": [
        {
          "output_type": "execute_result",
          "data": {
            "text/plain": [
              "<AxesSubplot:xlabel='loan_status', ylabel='count'>"
            ]
          },
          "metadata": {},
          "execution_count": 25
        },
        {
          "output_type": "display_data",
          "data": {
            "text/plain": [
              "<Figure size 1728x1080 with 8 Axes>"
            ],
            "image/png": "[encoded data removed]"
          },
          "metadata": {
            "needs_background": "light"
          }
        }
      ]
    },
    {
      "cell_type": "markdown",
      "source": [
        "Melakukan label encoding untuk setiap kategori"
      ],
      "metadata": {
        "id": "8-Ez2ootdcsy"
      },
      "id": "8-Ez2ootdcsy"
    },
    {
      "cell_type": "code",
      "source": [
        "df_enc = df.copy()"
      ],
      "metadata": {
        "id": "DcqQBVqfiHr7"
      },
      "id": "DcqQBVqfiHr7",
      "execution_count": 26,
      "outputs": []
    },
    {
      "cell_type": "code",
      "execution_count": 27,
      "id": "20e217a2",
      "metadata": {
        "id": "20e217a2"
      },
      "outputs": [],
      "source": [
        "mapping_gender = {\n",
        "    'Male' : 1,\n",
        "    'Female' : 0,\n",
        "}\n",
        "\n",
        "mapping_married = {\n",
        "    'Yes' : 1,\n",
        "    'No' : 0,\n",
        "}\n",
        "\n",
        "mapping_dependents = {\n",
        "    '0' : 0,\n",
        "    '1' : 1,\n",
        "    '2' : 2,\n",
        "    '3+' : 3\n",
        "}\n",
        "\n",
        "mapping_education = {\n",
        "    'Graduate' : 1,\n",
        "    'Not Graduate' : 0\n",
        "}\n",
        "\n",
        "mapping_self_employed = {\n",
        "    'No' : 0,\n",
        "    'Yes' : 1\n",
        "}\n",
        "\n",
        "# Untuk credit_history\n",
        "# sudah numerik\n",
        "\n",
        "mapping_property_type = {\n",
        "    'apartment' : 0,\n",
        "    'house' : 1,\n",
        "    'studio' : 2\n",
        "}\n",
        "\n",
        "mapping_loan_status = {\n",
        "    'APPROVE' : 1,\n",
        "    'REJECT' : 0\n",
        "}\n",
        "\n",
        "df_enc['gender'] = df_enc['gender'].map(mapping_gender)\n",
        "df_enc['married'] = df_enc['married'].map(mapping_married)\n",
        "df_enc['dependents'] = df_enc['dependents'].map(mapping_dependents)\n",
        "df_enc['education'] = df_enc['education'].map(mapping_education)\n",
        "df_enc['self_employed'] = df_enc['self_employed'].map(mapping_self_employed)\n",
        "df_enc['property_type'] = df_enc['property_type'].map(mapping_property_type)\n",
        "df_enc['loan_status'] = df_enc['loan_status'].map(mapping_loan_status)"
      ]
    },
    {
      "cell_type": "markdown",
      "source": [
        "Cek kembali kategori dari setiap kolom dengan data kategorik"
      ],
      "metadata": {
        "id": "kh7z9PJmfpf9"
      },
      "id": "kh7z9PJmfpf9"
    },
    {
      "cell_type": "code",
      "source": [
        "for i in kategorik :\n",
        "  print(f'Kolom {i} = {df_enc[i].unique()}')"
      ],
      "metadata": {
        "colab": {
          "base_uri": "https://localhost:8080/"
        },
        "id": "ct7A4iLefowD",
        "outputId": "45e1c7d3-b309-4f49-fd1e-f94992a85414"
      },
      "id": "ct7A4iLefowD",
      "execution_count": 28,
      "outputs": [
        {
          "output_type": "stream",
          "name": "stdout",
          "text": [
            "Kolom gender = [1 0]\n",
            "Kolom married = [0 1]\n",
            "Kolom dependents = [0 1 2 3]\n",
            "Kolom education = [1 0]\n",
            "Kolom self_employed = [0 1]\n",
            "Kolom credit_history = [1. 0.]\n",
            "Kolom property_type = [1 2 0]\n",
            "Kolom loan_status = [1 0]\n"
          ]
        }
      ]
    },
    {
      "cell_type": "markdown",
      "id": "a7228757",
      "metadata": {
        "id": "a7228757"
      },
      "source": [
        "# Business Insight"
      ]
    },
    {
      "cell_type": "markdown",
      "source": [
        "<h1> Section 2 - Analisis minat pelanggan berdasarkan pada tipe properti </h1>"
      ],
      "metadata": {
        "id": "6_XXox87hEDx"
      },
      "id": "6_XXox87hEDx"
    },
    {
      "cell_type": "markdown",
      "id": "b890d514",
      "metadata": {
        "id": "b890d514"
      },
      "source": [
        "## Analisis minat pelanggan berdasarkan pada tipe properti"
      ]
    },
    {
      "cell_type": "code",
      "execution_count": 29,
      "id": "86d1cecb",
      "metadata": {
        "colab": {
          "base_uri": "https://localhost:8080/",
          "height": 238
        },
        "id": "86d1cecb",
        "outputId": "4638bc53-56eb-4f23-9e44-91ec4050e8e8"
      },
      "outputs": [
        {
          "output_type": "execute_result",
          "data": {
            "text/plain": [
              "   Gender Property Type  Count\n",
              "0  Female     apartment     34\n",
              "1  Female         house     18\n",
              "2  Female        studio     18\n",
              "3    Male     apartment    118\n",
              "4    Male         house    100\n",
              "5    Male        studio     87"
            ],
            "text/html": [
              "\n",
              "  <div id=\"df-f5d184b0-5598-49d4-967a-dcbee23f227e\">\n",
              "    <div class=\"colab-df-container\">\n",
              "      <div>\n",
              "<style scoped>\n",
              "    .dataframe tbody tr th:only-of-type {\n",
              "        vertical-align: middle;\n",
              "    }\n",
              "\n",
              "    .dataframe tbody tr th {\n",
              "        vertical-align: top;\n",
              "    }\n",
              "\n",
              "    .dataframe thead th {\n",
              "        text-align: right;\n",
              "    }\n",
              "</style>\n",
              "<table border=\"1\" class=\"dataframe\">\n",
              "  <thead>\n",
              "    <tr style=\"text-align: right;\">\n",
              "      <th></th>\n",
              "      <th>Gender</th>\n",
              "      <th>Property Type</th>\n",
              "      <th>Count</th>\n",
              "    </tr>\n",
              "  </thead>\n",
              "  <tbody>\n",
              "    <tr>\n",
              "      <th>0</th>\n",
              "      <td>Female</td>\n",
              "      <td>apartment</td>\n",
              "      <td>34</td>\n",
              "    </tr>\n",
              "    <tr>\n",
              "      <th>1</th>\n",
              "      <td>Female</td>\n",
              "      <td>house</td>\n",
              "      <td>18</td>\n",
              "    </tr>\n",
              "    <tr>\n",
              "      <th>2</th>\n",
              "      <td>Female</td>\n",
              "      <td>studio</td>\n",
              "      <td>18</td>\n",
              "    </tr>\n",
              "    <tr>\n",
              "      <th>3</th>\n",
              "      <td>Male</td>\n",
              "      <td>apartment</td>\n",
              "      <td>118</td>\n",
              "    </tr>\n",
              "    <tr>\n",
              "      <th>4</th>\n",
              "      <td>Male</td>\n",
              "      <td>house</td>\n",
              "      <td>100</td>\n",
              "    </tr>\n",
              "    <tr>\n",
              "      <th>5</th>\n",
              "      <td>Male</td>\n",
              "      <td>studio</td>\n",
              "      <td>87</td>\n",
              "    </tr>\n",
              "  </tbody>\n",
              "</table>\n",
              "</div>\n",
              "      <button class=\"colab-df-convert\" onclick=\"convertToInteractive('df-f5d184b0-5598-49d4-967a-dcbee23f227e')\"\n",
              "              title=\"Convert this dataframe to an interactive table.\"\n",
              "              style=\"display:none;\">\n",
              "        \n",
              "  <svg xmlns=\"http://www.w3.org/2000/svg\" height=\"24px\"viewBox=\"0 0 24 24\"\n",
              "       width=\"24px\">\n",
              "    <path d=\"M0 0h24v24H0V0z\" fill=\"none\"/>\n",
              "    <path d=\"M18.56 5.44l.94 2.06.94-2.06 2.06-.94-2.06-.94-.94-2.06-.94 2.06-2.06.94zm-11 1L8.5 8.5l.94-2.06 2.06-.94-2.06-.94L8.5 2.5l-.94 2.06-2.06.94zm10 10l.94 2.06.94-2.06 2.06-.94-2.06-.94-.94-2.06-.94 2.06-2.06.94z\"/><path d=\"M17.41 7.96l-1.37-1.37c-.4-.4-.92-.59-1.43-.59-.52 0-1.04.2-1.43.59L10.3 9.45l-7.72 7.72c-.78.78-.78 2.05 0 2.83L4 21.41c.39.39.9.59 1.41.59.51 0 1.02-.2 1.41-.59l7.78-7.78 2.81-2.81c.8-.78.8-2.07 0-2.86zM5.41 20L4 18.59l7.72-7.72 1.47 1.35L5.41 20z\"/>\n",
              "  </svg>\n",
              "      </button>\n",
              "      \n",
              "  <style>\n",
              "    .colab-df-container {\n",
              "      display:flex;\n",
              "      flex-wrap:wrap;\n",
              "      gap: 12px;\n",
              "    }\n",
              "\n",
              "    .colab-df-convert {\n",
              "      background-color: #E8F0FE;\n",
              "      border: none;\n",
              "      border-radius: 50%;\n",
              "      cursor: pointer;\n",
              "      display: none;\n",
              "      fill: #1967D2;\n",
              "      height: 32px;\n",
              "      padding: 0 0 0 0;\n",
              "      width: 32px;\n",
              "    }\n",
              "\n",
              "    .colab-df-convert:hover {\n",
              "      background-color: #E2EBFA;\n",
              "      box-shadow: 0px 1px 2px rgba(60, 64, 67, 0.3), 0px 1px 3px 1px rgba(60, 64, 67, 0.15);\n",
              "      fill: #174EA6;\n",
              "    }\n",
              "\n",
              "    [theme=dark] .colab-df-convert {\n",
              "      background-color: #3B4455;\n",
              "      fill: #D2E3FC;\n",
              "    }\n",
              "\n",
              "    [theme=dark] .colab-df-convert:hover {\n",
              "      background-color: #434B5C;\n",
              "      box-shadow: 0px 1px 3px 1px rgba(0, 0, 0, 0.15);\n",
              "      filter: drop-shadow(0px 1px 2px rgba(0, 0, 0, 0.3));\n",
              "      fill: #FFFFFF;\n",
              "    }\n",
              "  </style>\n",
              "\n",
              "      <script>\n",
              "        const buttonEl =\n",
              "          document.querySelector('#df-f5d184b0-5598-49d4-967a-dcbee23f227e button.colab-df-convert');\n",
              "        buttonEl.style.display =\n",
              "          google.colab.kernel.accessAllowed ? 'block' : 'none';\n",
              "\n",
              "        async function convertToInteractive(key) {\n",
              "          const element = document.querySelector('#df-f5d184b0-5598-49d4-967a-dcbee23f227e');\n",
              "          const dataTable =\n",
              "            await google.colab.kernel.invokeFunction('convertToInteractive',\n",
              "                                                     [key], {});\n",
              "          if (!dataTable) return;\n",
              "\n",
              "          const docLinkHtml = 'Like what you see? Visit the ' +\n",
              "            '<a target=\"_blank\" href=https://colab.research.google.com/notebooks/data_table.ipynb>data table notebook</a>'\n",
              "            + ' to learn more about interactive tables.';\n",
              "          element.innerHTML = '';\n",
              "          dataTable['output_type'] = 'display_data';\n",
              "          await google.colab.output.renderOutput(dataTable, element);\n",
              "          const docLink = document.createElement('div');\n",
              "          docLink.innerHTML = docLinkHtml;\n",
              "          element.appendChild(docLink);\n",
              "        }\n",
              "      </script>\n",
              "    </div>\n",
              "  </div>\n",
              "  "
            ]
          },
          "metadata": {},
          "execution_count": 29
        }
      ],
      "source": [
        "df2 = df.groupby(['gender', 'property_type'])['loan_id'].count().reset_index()\n",
        "df2.rename(columns={'gender':'Gender'}, inplace=True)\n",
        "df2.rename(columns={'property_type':'Property Type'}, inplace=True)\n",
        "df2.rename(columns={'loan_id':'Count'}, inplace=True)\n",
        "df2"
      ]
    },
    {
      "cell_type": "code",
      "source": [
        "f, ax = plt.subplots(1,1,figsize=(15,10))\n",
        "sns.barplot(x='Property Type', y='Count', hue='Gender', data=df2)\n",
        "\n",
        "for bar in ax.patches:\n",
        "    bar_value = bar.get_height()\n",
        "    text = f'{bar_value:,}'\n",
        "    text_x = bar.get_x() + bar.get_width() / 2\n",
        "    text_y = bar.get_y() + bar_value\n",
        "    ax.text(text_x, text_y, text, ha='center', va='bottom', size=12)\n",
        "\n",
        "ax.set_xlabel('Property Type')\n",
        "ax.set_ylabel('Count')\n",
        "ax.set_title('Comparison of Customer Interest Based on Property Type')"
      ],
      "metadata": {
        "colab": {
          "base_uri": "https://localhost:8080/",
          "height": 638
        },
        "id": "_4GsNuixkAek",
        "outputId": "49b377da-0500-4af8-cb6c-c0f74f8ff441"
      },
      "id": "_4GsNuixkAek",
      "execution_count": 30,
      "outputs": [
        {
          "output_type": "execute_result",
          "data": {
            "text/plain": [
              "Text(0.5, 1.0, 'Comparison of Customer Interest Based on Property Type')"
            ]
          },
          "metadata": {},
          "execution_count": 30
        },
        {
          "output_type": "display_data",
          "data": {
            "text/plain": [
              "<Figure size 1080x720 with 1 Axes>"
            ],
            "image/png": "[encoded data removed]"
          },
          "metadata": {
            "needs_background": "light"
          }
        }
      ]
    },
    {
      "cell_type": "markdown",
      "source": [
        "Pada Visualisasi di atas terlihat bahwa setiap jenis properti lebih banyak diminati oleh laki-laki dan jenis properti dengan peminat terbanyak adalah apartment"
      ],
      "metadata": {
        "id": "WoGzXgbKm7oT"
      },
      "id": "WoGzXgbKm7oT"
    },
    {
      "cell_type": "markdown",
      "id": "c43363d1",
      "metadata": {
        "id": "c43363d1"
      },
      "source": [
        "## Analisis pengaruh status perkawinan terhadap jangka waktu meminjam "
      ]
    },
    {
      "cell_type": "code",
      "execution_count": 31,
      "id": "6f206911",
      "metadata": {
        "colab": {
          "base_uri": "https://localhost:8080/",
          "height": 488
        },
        "id": "6f206911",
        "outputId": "55961435-411d-4a91-9ea5-aa8bf68690e8"
      },
      "outputs": [
        {
          "output_type": "execute_result",
          "data": {
            "text/plain": [
              "   Married  Loan Term Year  Count\n",
              "0       No               3      2\n",
              "1       No              10      1\n",
              "2       No              15      4\n",
              "3       No              25      3\n",
              "4       No              30    122\n",
              "5       No              40      6\n",
              "6      Yes               5      1\n",
              "7      Yes               7      3\n",
              "8      Yes              10      1\n",
              "9      Yes              15     21\n",
              "10     Yes              20      2\n",
              "11     Yes              25      5\n",
              "12     Yes              30    199\n",
              "13     Yes              40      5"
            ],
            "text/html": [
              "\n",
              "  <div id=\"df-5a67d40e-fc55-48eb-9fd6-26e3a47587f9\">\n",
              "    <div class=\"colab-df-container\">\n",
              "      <div>\n",
              "<style scoped>\n",
              "    .dataframe tbody tr th:only-of-type {\n",
              "        vertical-align: middle;\n",
              "    }\n",
              "\n",
              "    .dataframe tbody tr th {\n",
              "        vertical-align: top;\n",
              "    }\n",
              "\n",
              "    .dataframe thead th {\n",
              "        text-align: right;\n",
              "    }\n",
              "</style>\n",
              "<table border=\"1\" class=\"dataframe\">\n",
              "  <thead>\n",
              "    <tr style=\"text-align: right;\">\n",
              "      <th></th>\n",
              "      <th>Married</th>\n",
              "      <th>Loan Term Year</th>\n",
              "      <th>Count</th>\n",
              "    </tr>\n",
              "  </thead>\n",
              "  <tbody>\n",
              "    <tr>\n",
              "      <th>0</th>\n",
              "      <td>No</td>\n",
              "      <td>3</td>\n",
              "      <td>2</td>\n",
              "    </tr>\n",
              "    <tr>\n",
              "      <th>1</th>\n",
              "      <td>No</td>\n",
              "      <td>10</td>\n",
              "      <td>1</td>\n",
              "    </tr>\n",
              "    <tr>\n",
              "      <th>2</th>\n",
              "      <td>No</td>\n",
              "      <td>15</td>\n",
              "      <td>4</td>\n",
              "    </tr>\n",
              "    <tr>\n",
              "      <th>3</th>\n",
              "      <td>No</td>\n",
              "      <td>25</td>\n",
              "      <td>3</td>\n",
              "    </tr>\n",
              "    <tr>\n",
              "      <th>4</th>\n",
              "      <td>No</td>\n",
              "      <td>30</td>\n",
              "      <td>122</td>\n",
              "    </tr>\n",
              "    <tr>\n",
              "      <th>5</th>\n",
              "      <td>No</td>\n",
              "      <td>40</td>\n",
              "      <td>6</td>\n",
              "    </tr>\n",
              "    <tr>\n",
              "      <th>6</th>\n",
              "      <td>Yes</td>\n",
              "      <td>5</td>\n",
              "      <td>1</td>\n",
              "    </tr>\n",
              "    <tr>\n",
              "      <th>7</th>\n",
              "      <td>Yes</td>\n",
              "      <td>7</td>\n",
              "      <td>3</td>\n",
              "    </tr>\n",
              "    <tr>\n",
              "      <th>8</th>\n",
              "      <td>Yes</td>\n",
              "      <td>10</td>\n",
              "      <td>1</td>\n",
              "    </tr>\n",
              "    <tr>\n",
              "      <th>9</th>\n",
              "      <td>Yes</td>\n",
              "      <td>15</td>\n",
              "      <td>21</td>\n",
              "    </tr>\n",
              "    <tr>\n",
              "      <th>10</th>\n",
              "      <td>Yes</td>\n",
              "      <td>20</td>\n",
              "      <td>2</td>\n",
              "    </tr>\n",
              "    <tr>\n",
              "      <th>11</th>\n",
              "      <td>Yes</td>\n",
              "      <td>25</td>\n",
              "      <td>5</td>\n",
              "    </tr>\n",
              "    <tr>\n",
              "      <th>12</th>\n",
              "      <td>Yes</td>\n",
              "      <td>30</td>\n",
              "      <td>199</td>\n",
              "    </tr>\n",
              "    <tr>\n",
              "      <th>13</th>\n",
              "      <td>Yes</td>\n",
              "      <td>40</td>\n",
              "      <td>5</td>\n",
              "    </tr>\n",
              "  </tbody>\n",
              "</table>\n",
              "</div>\n",
              "      <button class=\"colab-df-convert\" onclick=\"convertToInteractive('df-5a67d40e-fc55-48eb-9fd6-26e3a47587f9')\"\n",
              "              title=\"Convert this dataframe to an interactive table.\"\n",
              "              style=\"display:none;\">\n",
              "        \n",
              "  <svg xmlns=\"http://www.w3.org/2000/svg\" height=\"24px\"viewBox=\"0 0 24 24\"\n",
              "       width=\"24px\">\n",
              "    <path d=\"M0 0h24v24H0V0z\" fill=\"none\"/>\n",
              "    <path d=\"M18.56 5.44l.94 2.06.94-2.06 2.06-.94-2.06-.94-.94-2.06-.94 2.06-2.06.94zm-11 1L8.5 8.5l.94-2.06 2.06-.94-2.06-.94L8.5 2.5l-.94 2.06-2.06.94zm10 10l.94 2.06.94-2.06 2.06-.94-2.06-.94-.94-2.06-.94 2.06-2.06.94z\"/><path d=\"M17.41 7.96l-1.37-1.37c-.4-.4-.92-.59-1.43-.59-.52 0-1.04.2-1.43.59L10.3 9.45l-7.72 7.72c-.78.78-.78 2.05 0 2.83L4 21.41c.39.39.9.59 1.41.59.51 0 1.02-.2 1.41-.59l7.78-7.78 2.81-2.81c.8-.78.8-2.07 0-2.86zM5.41 20L4 18.59l7.72-7.72 1.47 1.35L5.41 20z\"/>\n",
              "  </svg>\n",
              "      </button>\n",
              "      \n",
              "  <style>\n",
              "    .colab-df-container {\n",
              "      display:flex;\n",
              "      flex-wrap:wrap;\n",
              "      gap: 12px;\n",
              "    }\n",
              "\n",
              "    .colab-df-convert {\n",
              "      background-color: #E8F0FE;\n",
              "      border: none;\n",
              "      border-radius: 50%;\n",
              "      cursor: pointer;\n",
              "      display: none;\n",
              "      fill: #1967D2;\n",
              "      height: 32px;\n",
              "      padding: 0 0 0 0;\n",
              "      width: 32px;\n",
              "    }\n",
              "\n",
              "    .colab-df-convert:hover {\n",
              "      background-color: #E2EBFA;\n",
              "      box-shadow: 0px 1px 2px rgba(60, 64, 67, 0.3), 0px 1px 3px 1px rgba(60, 64, 67, 0.15);\n",
              "      fill: #174EA6;\n",
              "    }\n",
              "\n",
              "    [theme=dark] .colab-df-convert {\n",
              "      background-color: #3B4455;\n",
              "      fill: #D2E3FC;\n",
              "    }\n",
              "\n",
              "    [theme=dark] .colab-df-convert:hover {\n",
              "      background-color: #434B5C;\n",
              "      box-shadow: 0px 1px 3px 1px rgba(0, 0, 0, 0.15);\n",
              "      filter: drop-shadow(0px 1px 2px rgba(0, 0, 0, 0.3));\n",
              "      fill: #FFFFFF;\n",
              "    }\n",
              "  </style>\n",
              "\n",
              "      <script>\n",
              "        const buttonEl =\n",
              "          document.querySelector('#df-5a67d40e-fc55-48eb-9fd6-26e3a47587f9 button.colab-df-convert');\n",
              "        buttonEl.style.display =\n",
              "          google.colab.kernel.accessAllowed ? 'block' : 'none';\n",
              "\n",
              "        async function convertToInteractive(key) {\n",
              "          const element = document.querySelector('#df-5a67d40e-fc55-48eb-9fd6-26e3a47587f9');\n",
              "          const dataTable =\n",
              "            await google.colab.kernel.invokeFunction('convertToInteractive',\n",
              "                                                     [key], {});\n",
              "          if (!dataTable) return;\n",
              "\n",
              "          const docLinkHtml = 'Like what you see? Visit the ' +\n",
              "            '<a target=\"_blank\" href=https://colab.research.google.com/notebooks/data_table.ipynb>data table notebook</a>'\n",
              "            + ' to learn more about interactive tables.';\n",
              "          element.innerHTML = '';\n",
              "          dataTable['output_type'] = 'display_data';\n",
              "          await google.colab.output.renderOutput(dataTable, element);\n",
              "          const docLink = document.createElement('div');\n",
              "          docLink.innerHTML = docLinkHtml;\n",
              "          element.appendChild(docLink);\n",
              "        }\n",
              "      </script>\n",
              "    </div>\n",
              "  </div>\n",
              "  "
            ]
          },
          "metadata": {},
          "execution_count": 31
        }
      ],
      "source": [
        "df3 = df.groupby(['married', 'loan_term_year'])['loan_id'].count().reset_index()\n",
        "df3.rename(columns={'married':'Married'}, inplace=True)\n",
        "df3.rename(columns={'loan_term_year':'Loan Term Year'}, inplace=True)\n",
        "df3.rename(columns={'loan_id':'Count'}, inplace=True)\n",
        "df3"
      ]
    },
    {
      "cell_type": "code",
      "source": [
        "f, ax = plt.subplots(1,1,figsize=(15,10))\n",
        "sns.barplot(x='Loan Term Year', y='Count', hue='Married', data=df3)\n",
        "\n",
        "for bar in ax.patches:\n",
        "    bar_value = bar.get_height()\n",
        "    text = f'{bar_value:,}'\n",
        "    text_x = bar.get_x() + bar.get_width() / 2\n",
        "    text_y = bar.get_y() + bar_value\n",
        "    ax.text(text_x, text_y, text, ha='center', va='bottom', size=12)\n",
        "\n",
        "ax.set_xlabel('Loan Term Year')\n",
        "ax.set_ylabel('Count')\n",
        "ax.set_title('Comparison of Married Status Based on Loan Term Year')"
      ],
      "metadata": {
        "colab": {
          "base_uri": "https://localhost:8080/",
          "height": 829
        },
        "id": "W9QGzrYeneQ6",
        "outputId": "4bc800fc-a19f-4f8a-e8d1-e90a6fe85205"
      },
      "id": "W9QGzrYeneQ6",
      "execution_count": 32,
      "outputs": [
        {
          "output_type": "execute_result",
          "data": {
            "text/plain": [
              "Text(0.5, 1.0, 'Comparison of Married Status Based on Loan Term Year')"
            ]
          },
          "metadata": {},
          "execution_count": 32
        },
        {
          "output_type": "stream",
          "name": "stderr",
          "text": [
            "WARNING:matplotlib.text:posx and posy should be finite values\n",
            "WARNING:matplotlib.text:posx and posy should be finite values\n",
            "WARNING:matplotlib.text:posx and posy should be finite values\n",
            "WARNING:matplotlib.text:posx and posy should be finite values\n",
            "WARNING:matplotlib.text:posx and posy should be finite values\n",
            "WARNING:matplotlib.text:posx and posy should be finite values\n",
            "WARNING:matplotlib.text:posx and posy should be finite values\n",
            "WARNING:matplotlib.text:posx and posy should be finite values\n",
            "WARNING:matplotlib.text:posx and posy should be finite values\n",
            "WARNING:matplotlib.text:posx and posy should be finite values\n",
            "WARNING:matplotlib.text:posx and posy should be finite values\n",
            "WARNING:matplotlib.text:posx and posy should be finite values\n"
          ]
        },
        {
          "output_type": "display_data",
          "data": {
            "text/plain": [
              "<Figure size 1080x720 with 1 Axes>"
            ],
            "image/png": "[encoded data removed]"
          },
          "metadata": {
            "needs_background": "light"
          }
        }
      ]
    },
    {
      "cell_type": "markdown",
      "source": [
        "Pada Visualisasi di atas terlihat bahwa status perkawinan berpengaruh terhadap jangka waktu peminjaman"
      ],
      "metadata": {
        "id": "iyjw1TPXGAHk"
      },
      "id": "iyjw1TPXGAHk"
    }
  ],
  "metadata": {
    "kernelspec": {
      "display_name": "Python 3 (ipykernel)",
      "language": "python",
      "name": "python3"
    },
    "language_info": {
      "codemirror_mode": {
        "name": "ipython",
        "version": 3
      },
      "file_extension": ".py",
      "mimetype": "text/x-python",
      "name": "python",
      "nbconvert_exporter": "python",
      "pygments_lexer": "ipython3",
      "version": "3.9.6"
    },
    "colab": {
      "provenance": [],
      "toc_visible": true
    }
  },
  "nbformat": 4,
  "nbformat_minor": 5
}